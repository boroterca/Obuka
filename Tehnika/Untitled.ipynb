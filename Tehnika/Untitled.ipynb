{
 "cells": [
  {
   "cell_type": "code",
   "execution_count": 1,
   "id": "fb491e1f",
   "metadata": {},
   "outputs": [
    {
     "name": "stdout",
     "output_type": "stream",
     "text": [
      "pip 22.2.2 from C:\\ProgramData\\Anaconda3\\lib\\site-packages\\pip (python 3.9)\n",
      "\n"
     ]
    }
   ],
   "source": [
    "!pip --version"
   ]
  },
  {
   "cell_type": "code",
   "execution_count": 2,
   "id": "28845559",
   "metadata": {},
   "outputs": [
    {
     "name": "stdout",
     "output_type": "stream",
     "text": [
      "Defaulting to user installation because normal site-packages is not writeable\n",
      "Requirement already satisfied: pygame in c:\\users\\ucenik.desktop-dea0gvv\\appdata\\roaming\\python\\python39\\site-packages (2.1.2)\n"
     ]
    }
   ],
   "source": [
    "!pip install pygame"
   ]
  },
  {
   "cell_type": "code",
   "execution_count": 3,
   "id": "d37475e0",
   "metadata": {},
   "outputs": [
    {
     "name": "stdout",
     "output_type": "stream",
     "text": [
      "pygame 2.1.2 (SDL 2.0.18, Python 3.9.13)\n",
      "Hello from the pygame community. https://www.pygame.org/contribute.html\n"
     ]
    }
   ],
   "source": [
    "import pygame as pg\n",
    "pg.init()\n",
    "prozor = pg.display.set_mode((400, 400))\n",
    "pg.display.set_caption(\"Ovčar i Kablar\")\n",
    "prozor.fill(pg.Color(\"skyblue\"))\n",
    "#SUNCE\n",
    "pg.draw.circle(prozor, pg.Color(\"yellow\"), (300, 80), 70)\n",
    "#OBLAK\n",
    "pg.draw.circle(prozor, pg.Color(\"white\"), (250, 150), 60)\n",
    "pg.draw.circle(prozor, pg.Color(\"white\"), (195, 150), 35)\n",
    "pg.draw.circle(prozor, pg.Color(\"white\"), (305, 150), 35)\n",
    "#OVČAR\n",
    "temena1 = ((0,400), (125,200), (275,400))\n",
    "pg.draw.polygon(prozor, pg.Color(\"darkgreen\"), temena1)\n",
    "#KABLAR\n",
    "temena2 = ((150,400), (280,270), (400,400))\n",
    "pg.draw.polygon(prozor, pg.Color(\"darkgreen\"), temena2)\n",
    "#REPETITOR\n",
    "pg.draw.line(prozor, pg.Color(\"black\"), (125, 202),(125, 160), 2)\n",
    "pg.display.update()\n",
    "while pg.event.wait().type != pg.QUIT:\n",
    "    pass\n",
    "pg.quit()"
   ]
  },
  {
   "cell_type": "code",
   "execution_count": null,
   "id": "566bbc5f",
   "metadata": {},
   "outputs": [],
   "source": []
  }
 ],
 "metadata": {
  "kernelspec": {
   "display_name": "Python 3 (ipykernel)",
   "language": "python",
   "name": "python3"
  },
  "language_info": {
   "codemirror_mode": {
    "name": "ipython",
    "version": 3
   },
   "file_extension": ".py",
   "mimetype": "text/x-python",
   "name": "python",
   "nbconvert_exporter": "python",
   "pygments_lexer": "ipython3",
   "version": "3.9.13"
  }
 },
 "nbformat": 4,
 "nbformat_minor": 5
}
